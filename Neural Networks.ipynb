{
  "cells": [
    {
      "cell_type": "code",
      "execution_count": 105,
      "metadata": {
        "id": "NfbB3zC3fJpC"
      },
      "outputs": [],
      "source": [
        "import pandas as pd\n",
        "df=pd.read_csv('diabetes.csv')"
      ]
    },
    {
      "cell_type": "code",
      "execution_count": 106,
      "metadata": {
        "id": "tiSt2VNDxONL"
      },
      "outputs": [],
      "source": [
        "try:\n",
        "    import scikeras\n",
        "except ImportError:\n",
        "    !python -m pip install scikeras"
      ]
    },
    {
      "cell_type": "code",
      "execution_count": 107,
      "metadata": {
        "id": "qSfSdIkMxP8I"
      },
      "outputs": [],
      "source": [
        "import warnings\n",
        "from tensorflow import get_logger\n",
        "get_logger().setLevel('ERROR')\n",
        "warnings.filterwarnings(\"ignore\", message=\"Setting the random state for TF\")"
      ]
    },
    {
      "cell_type": "code",
      "execution_count": 108,
      "metadata": {
        "id": "CPvaJvk-xY9Q"
      },
      "outputs": [],
      "source": [
        "import numpy as np\n",
        "from scikeras.wrappers import KerasClassifier, KerasRegressor\n",
        "from tensorflow import keras"
      ]
    },
    {
      "cell_type": "code",
      "execution_count": 110,
      "metadata": {
        "id": "T6EyFmP4fWY1"
      },
      "outputs": [],
      "source": [
        "from matplotlib import pyplot as plt"
      ]
    },
    {
      "cell_type": "code",
      "execution_count": 111,
      "metadata": {
        "id": "Vnu6sA2ifePZ"
      },
      "outputs": [],
      "source": [
        "import seaborn as sns"
      ]
    },
    {
      "cell_type": "code",
      "execution_count": 113,
      "metadata": {
        "id": "COxW7o7cf08h"
      },
      "outputs": [],
      "source": [
        "\n",
        "import numpy as np"
      ]
    },
    {
      "cell_type": "code",
      "execution_count": 114,
      "metadata": {
        "id": "M4xRW1aQf2wr"
      },
      "outputs": [],
      "source": [
        "\n",
        "# Replacing 0 values \n",
        "df.Glucose = df.Glucose.replace(0,np.nan)\n",
        "df.BloodPressure = df.BloodPressure.replace(0,np.nan)\n",
        "df.SkinThickness = df.SkinThickness.replace(0,np.nan)\n",
        "df.Insulin = df.Insulin.replace(0,np.nan)\n",
        "df.BMI = df.BMI.replace(0,np.nan)"
      ]
    },
    {
      "cell_type": "code",
      "execution_count": 115,
      "metadata": {
        "id": "mWfSrZbEf-VQ"
      },
      "outputs": [],
      "source": [
        "\n",
        "# Fill missing values with column means\n",
        "df.Glucose = df.Glucose.fillna(df.Glucose.mean())\n",
        "df.BloodPressure = df.BloodPressure.fillna(df.BloodPressure.mean())\n",
        "df.SkinThickness = df.SkinThickness.fillna(df.SkinThickness.mean())\n",
        "df.Insulin = df.Insulin.fillna(df.Insulin.mean())\n",
        "df.BMI = df.BMI.fillna(df.BMI.mean())"
      ]
    },
    {
      "cell_type": "code",
      "execution_count": 116,
      "metadata": {
        "id": "ITDP_2hagCXY"
      },
      "outputs": [],
      "source": [
        "\n",
        "# Standardize the data with scaling\n",
        "from sklearn import preprocessing\n"
      ]
    },
    {
      "cell_type": "code",
      "execution_count": 117,
      "metadata": {
        "id": "20chY3LJgFUO"
      },
      "outputs": [],
      "source": [
        "\n",
        "df_scaled = preprocessing.scale(df)"
      ]
    },
    {
      "cell_type": "code",
      "execution_count": 118,
      "metadata": {
        "id": "MRrhAd0rgIa2"
      },
      "outputs": [],
      "source": [
        "\n",
        "\n",
        "# df needs to be converted back to pandas dataframe\n",
        "df_scaled = pd.DataFrame(df_scaled, columns = df.columns)\n"
      ]
    },
    {
      "cell_type": "code",
      "execution_count": 119,
      "metadata": {
        "id": "0YpSyc1pgMFJ"
      },
      "outputs": [],
      "source": [
        "\n",
        "# Outcome should not be scaled as it is a binary classification\n",
        "df_scaled['Outcome'] = df['Outcome']\n",
        "df = df_scaled\n"
      ]
    },
    {
      "cell_type": "code",
      "execution_count": 123,
      "metadata": {
        "id": "Jml96hB6gTIO"
      },
      "outputs": [],
      "source": [
        "\n",
        "# Train, test, split\n",
        "from sklearn.model_selection import train_test_split"
      ]
    },
    {
      "cell_type": "code",
      "execution_count": 124,
      "metadata": {
        "id": "9bZRYykQgZRC"
      },
      "outputs": [],
      "source": [
        "\n",
        "X=df.loc[:,df.columns!='Outcome']\n",
        "y=df.loc[:,'Outcome']"
      ]
    },
    {
      "cell_type": "code",
      "execution_count": 125,
      "metadata": {
        "id": "1mKyHfHAgd5e"
      },
      "outputs": [],
      "source": [
        "X_train,X_test,y_train,y_test=train_test_split(X,y,test_size=0.2)\n"
      ]
    },
    {
      "cell_type": "markdown",
      "source": [
        "**How to Tune Learning Rate, Batch Size, Number of Epochs and Neurons**"
      ],
      "metadata": {
        "id": "SQ3-8wQbbK6K"
      }
    },
    {
      "cell_type": "code",
      "source": [
        "def create_model(neurons):\n",
        " # create model\n",
        " model = Sequential()\n",
        " model.add(Dense(neurons, input_shape=(8,), activation='relu'))\n",
        " model.add(Dense(1, activation='sigmoid'))\n",
        " # Compile model\n",
        " model.compile(loss='binary_crossentropy', optimizer='adam', metrics=['accuracy'])\n",
        " return model"
      ],
      "metadata": {
        "id": "iC2xb-34ajag"
      },
      "execution_count": 139,
      "outputs": []
    },
    {
      "cell_type": "code",
      "source": [
        "from scikeras.wrappers import KerasClassifier\n",
        "from sklearn.model_selection import GridSearchCV\n",
        "model = KerasClassifier(model=create_model, verbose=0)\n",
        "# define the grid search parameters\n",
        "batch_size = [20, 40, 100]\n",
        "epochs = [10, 50, 100]\n",
        "neurons = [12, 32, 64]\n",
        "learn_rate = [0.001, 0.01, 0.1]\n",
        "param_grid = dict(batch_size=batch_size, epochs=epochs,model__neurons=neurons,optimizer__learning_rate=learn_rate)\n",
        "grid = GridSearchCV(estimator=model, param_grid=param_grid, n_jobs=-1, cv=3)\n",
        "grid_result = grid.fit(X_train,y_train)\n",
        "# summarize results\n",
        "print(\"Best: %f using %s\" % (grid_result.best_score_, grid_result.best_params_))"
      ],
      "metadata": {
        "colab": {
          "base_uri": "https://localhost:8080/"
        },
        "id": "-IMF8sG6bHvc",
        "outputId": "ce3ebbc8-971e-48ed-8cac-d56595d2eb4b"
      },
      "execution_count": 141,
      "outputs": [
        {
          "output_type": "stream",
          "name": "stdout",
          "text": [
            "Best: 0.763861 using {'batch_size': 100, 'epochs': 50, 'model__neurons': 64, 'optimizer__learning_rate': 0.1}\n"
          ]
        }
      ]
    },
    {
      "cell_type": "markdown",
      "source": [
        "**Final Implementation**"
      ],
      "metadata": {
        "id": "B4k39PxaxyE2"
      }
    },
    {
      "cell_type": "code",
      "execution_count": 142,
      "metadata": {
        "id": "b8pUySgbgitR"
      },
      "outputs": [],
      "source": [
        "\n",
        "from keras.models import Sequential\n",
        "model = Sequential()"
      ]
    },
    {
      "cell_type": "code",
      "execution_count": 143,
      "metadata": {
        "id": "JYwxq97MgpHH"
      },
      "outputs": [],
      "source": [
        "\n",
        "from keras.layers import Dense"
      ]
    },
    {
      "cell_type": "code",
      "execution_count": 144,
      "metadata": {
        "id": "GRXDmM9zgutP"
      },
      "outputs": [],
      "source": [
        "\n",
        "# First hidden layer\n",
        "model.add(Dense(64, input_shape=(8,), activation='relu'))"
      ]
    },
    {
      "cell_type": "code",
      "execution_count": 145,
      "metadata": {
        "id": "2ESS5XFWgzBl"
      },
      "outputs": [],
      "source": [
        "\n",
        "# Output layer\n",
        "model.add(Dense(1,activation='sigmoid'))"
      ]
    },
    {
      "cell_type": "code",
      "source": [
        "opt = keras.optimizers.Adam(learning_rate=0.1)"
      ],
      "metadata": {
        "id": "Z_CLWloHoaNA"
      },
      "execution_count": 146,
      "outputs": []
    },
    {
      "cell_type": "code",
      "execution_count": 147,
      "metadata": {
        "id": "QnuOxmK7g0V3"
      },
      "outputs": [],
      "source": [
        "# Compile the model\n",
        "model.compile(optimizer=opt, loss='binary_crossentropy',metrics=['accuracy'])"
      ]
    },
    {
      "cell_type": "code",
      "execution_count": 148,
      "metadata": {
        "colab": {
          "base_uri": "https://localhost:8080/"
        },
        "id": "s3xYBS_tg45e",
        "outputId": "4e952ab9-661c-4233-b8e6-40e59efb602f"
      },
      "outputs": [
        {
          "output_type": "stream",
          "name": "stdout",
          "text": [
            "Epoch 1/100\n",
            "13/13 [==============================] - 0s 2ms/step - loss: 0.5796 - accuracy: 0.6971\n",
            "Epoch 2/100\n",
            "13/13 [==============================] - 0s 2ms/step - loss: 0.5096 - accuracy: 0.7410\n",
            "Epoch 3/100\n",
            "13/13 [==============================] - 0s 2ms/step - loss: 0.4629 - accuracy: 0.7687\n",
            "Epoch 4/100\n",
            "13/13 [==============================] - 0s 2ms/step - loss: 0.4387 - accuracy: 0.7785\n",
            "Epoch 5/100\n",
            "13/13 [==============================] - 0s 2ms/step - loss: 0.4275 - accuracy: 0.7801\n",
            "Epoch 6/100\n",
            "13/13 [==============================] - 0s 2ms/step - loss: 0.4208 - accuracy: 0.7899\n",
            "Epoch 7/100\n",
            "13/13 [==============================] - 0s 2ms/step - loss: 0.4241 - accuracy: 0.7785\n",
            "Epoch 8/100\n",
            "13/13 [==============================] - 0s 3ms/step - loss: 0.4541 - accuracy: 0.7720\n",
            "Epoch 9/100\n",
            "13/13 [==============================] - 0s 3ms/step - loss: 0.4274 - accuracy: 0.7801\n",
            "Epoch 10/100\n",
            "13/13 [==============================] - 0s 2ms/step - loss: 0.4084 - accuracy: 0.7915\n",
            "Epoch 11/100\n",
            "13/13 [==============================] - 0s 3ms/step - loss: 0.4312 - accuracy: 0.7980\n",
            "Epoch 12/100\n",
            "13/13 [==============================] - 0s 2ms/step - loss: 0.4021 - accuracy: 0.7997\n",
            "Epoch 13/100\n",
            "13/13 [==============================] - 0s 3ms/step - loss: 0.4058 - accuracy: 0.7915\n",
            "Epoch 14/100\n",
            "13/13 [==============================] - 0s 2ms/step - loss: 0.3949 - accuracy: 0.8013\n",
            "Epoch 15/100\n",
            "13/13 [==============================] - 0s 3ms/step - loss: 0.3939 - accuracy: 0.7948\n",
            "Epoch 16/100\n",
            "13/13 [==============================] - 0s 2ms/step - loss: 0.3937 - accuracy: 0.7964\n",
            "Epoch 17/100\n",
            "13/13 [==============================] - 0s 3ms/step - loss: 0.3895 - accuracy: 0.8029\n",
            "Epoch 18/100\n",
            "13/13 [==============================] - 0s 3ms/step - loss: 0.3783 - accuracy: 0.8322\n",
            "Epoch 19/100\n",
            "13/13 [==============================] - 0s 2ms/step - loss: 0.3933 - accuracy: 0.8176\n",
            "Epoch 20/100\n",
            "13/13 [==============================] - 0s 3ms/step - loss: 0.4177 - accuracy: 0.7948\n",
            "Epoch 21/100\n",
            "13/13 [==============================] - 0s 2ms/step - loss: 0.3619 - accuracy: 0.8176\n",
            "Epoch 22/100\n",
            "13/13 [==============================] - 0s 2ms/step - loss: 0.3618 - accuracy: 0.8111\n",
            "Epoch 23/100\n",
            "13/13 [==============================] - 0s 3ms/step - loss: 0.3754 - accuracy: 0.8160\n",
            "Epoch 24/100\n",
            "13/13 [==============================] - 0s 3ms/step - loss: 0.3507 - accuracy: 0.8241\n",
            "Epoch 25/100\n",
            "13/13 [==============================] - 0s 2ms/step - loss: 0.3912 - accuracy: 0.8111\n",
            "Epoch 26/100\n",
            "13/13 [==============================] - 0s 2ms/step - loss: 0.3519 - accuracy: 0.8176\n",
            "Epoch 27/100\n",
            "13/13 [==============================] - 0s 4ms/step - loss: 0.3595 - accuracy: 0.8208\n",
            "Epoch 28/100\n",
            "13/13 [==============================] - 0s 2ms/step - loss: 0.3499 - accuracy: 0.8290\n",
            "Epoch 29/100\n",
            "13/13 [==============================] - 0s 2ms/step - loss: 0.3632 - accuracy: 0.8274\n",
            "Epoch 30/100\n",
            "13/13 [==============================] - 0s 2ms/step - loss: 0.3572 - accuracy: 0.8339\n",
            "Epoch 31/100\n",
            "13/13 [==============================] - 0s 4ms/step - loss: 0.3476 - accuracy: 0.8225\n",
            "Epoch 32/100\n",
            "13/13 [==============================] - 0s 2ms/step - loss: 0.3683 - accuracy: 0.8143\n",
            "Epoch 33/100\n",
            "13/13 [==============================] - 0s 2ms/step - loss: 0.3566 - accuracy: 0.8111\n",
            "Epoch 34/100\n",
            "13/13 [==============================] - 0s 2ms/step - loss: 0.3507 - accuracy: 0.8404\n",
            "Epoch 35/100\n",
            "13/13 [==============================] - 0s 2ms/step - loss: 0.3199 - accuracy: 0.8404\n",
            "Epoch 36/100\n",
            "13/13 [==============================] - 0s 2ms/step - loss: 0.3066 - accuracy: 0.8583\n",
            "Epoch 37/100\n",
            "13/13 [==============================] - 0s 2ms/step - loss: 0.2917 - accuracy: 0.8567\n",
            "Epoch 38/100\n",
            "13/13 [==============================] - 0s 3ms/step - loss: 0.2812 - accuracy: 0.8550\n",
            "Epoch 39/100\n",
            "13/13 [==============================] - 0s 2ms/step - loss: 0.2734 - accuracy: 0.8713\n",
            "Epoch 40/100\n",
            "13/13 [==============================] - 0s 2ms/step - loss: 0.2806 - accuracy: 0.8599\n",
            "Epoch 41/100\n",
            "13/13 [==============================] - 0s 2ms/step - loss: 0.2941 - accuracy: 0.8730\n",
            "Epoch 42/100\n",
            "13/13 [==============================] - 0s 4ms/step - loss: 0.2851 - accuracy: 0.8681\n",
            "Epoch 43/100\n",
            "13/13 [==============================] - 0s 2ms/step - loss: 0.3067 - accuracy: 0.8436\n",
            "Epoch 44/100\n",
            "13/13 [==============================] - 0s 2ms/step - loss: 0.3297 - accuracy: 0.8567\n",
            "Epoch 45/100\n",
            "13/13 [==============================] - 0s 3ms/step - loss: 0.3383 - accuracy: 0.8355\n",
            "Epoch 46/100\n",
            "13/13 [==============================] - 0s 2ms/step - loss: 0.3158 - accuracy: 0.8583\n",
            "Epoch 47/100\n",
            "13/13 [==============================] - 0s 2ms/step - loss: 0.2885 - accuracy: 0.8648\n",
            "Epoch 48/100\n",
            "13/13 [==============================] - 0s 3ms/step - loss: 0.3303 - accuracy: 0.8550\n",
            "Epoch 49/100\n",
            "13/13 [==============================] - 0s 2ms/step - loss: 0.2832 - accuracy: 0.8534\n",
            "Epoch 50/100\n",
            "13/13 [==============================] - 0s 2ms/step - loss: 0.2714 - accuracy: 0.8779\n",
            "Epoch 51/100\n",
            "13/13 [==============================] - 0s 2ms/step - loss: 0.2517 - accuracy: 0.8795\n",
            "Epoch 52/100\n",
            "13/13 [==============================] - 0s 3ms/step - loss: 0.2592 - accuracy: 0.8893\n",
            "Epoch 53/100\n",
            "13/13 [==============================] - 0s 2ms/step - loss: 0.2380 - accuracy: 0.8811\n",
            "Epoch 54/100\n",
            "13/13 [==============================] - 0s 2ms/step - loss: 0.2650 - accuracy: 0.8779\n",
            "Epoch 55/100\n",
            "13/13 [==============================] - 0s 2ms/step - loss: 0.3063 - accuracy: 0.8502\n",
            "Epoch 56/100\n",
            "13/13 [==============================] - 0s 3ms/step - loss: 0.3795 - accuracy: 0.8469\n",
            "Epoch 57/100\n",
            "13/13 [==============================] - 0s 2ms/step - loss: 0.4882 - accuracy: 0.8290\n",
            "Epoch 58/100\n",
            "13/13 [==============================] - 0s 2ms/step - loss: 0.4724 - accuracy: 0.8094\n",
            "Epoch 59/100\n",
            "13/13 [==============================] - 0s 2ms/step - loss: 0.3803 - accuracy: 0.8339\n",
            "Epoch 60/100\n",
            "13/13 [==============================] - 0s 2ms/step - loss: 0.3307 - accuracy: 0.8453\n",
            "Epoch 61/100\n",
            "13/13 [==============================] - 0s 3ms/step - loss: 0.3201 - accuracy: 0.8453\n",
            "Epoch 62/100\n",
            "13/13 [==============================] - 0s 2ms/step - loss: 0.3058 - accuracy: 0.8485\n",
            "Epoch 63/100\n",
            "13/13 [==============================] - 0s 2ms/step - loss: 0.2921 - accuracy: 0.8388\n",
            "Epoch 64/100\n",
            "13/13 [==============================] - 0s 3ms/step - loss: 0.2580 - accuracy: 0.8664\n",
            "Epoch 65/100\n",
            "13/13 [==============================] - 0s 3ms/step - loss: 0.2424 - accuracy: 0.8762\n",
            "Epoch 66/100\n",
            "13/13 [==============================] - 0s 2ms/step - loss: 0.2380 - accuracy: 0.8762\n",
            "Epoch 67/100\n",
            "13/13 [==============================] - 0s 3ms/step - loss: 0.2237 - accuracy: 0.8811\n",
            "Epoch 68/100\n",
            "13/13 [==============================] - 0s 2ms/step - loss: 0.2379 - accuracy: 0.8713\n",
            "Epoch 69/100\n",
            "13/13 [==============================] - 0s 2ms/step - loss: 0.2537 - accuracy: 0.8713\n",
            "Epoch 70/100\n",
            "13/13 [==============================] - 0s 3ms/step - loss: 0.2666 - accuracy: 0.8730\n",
            "Epoch 71/100\n",
            "13/13 [==============================] - 0s 2ms/step - loss: 0.2416 - accuracy: 0.8713\n",
            "Epoch 72/100\n",
            "13/13 [==============================] - 0s 2ms/step - loss: 0.2514 - accuracy: 0.8632\n",
            "Epoch 73/100\n",
            "13/13 [==============================] - 0s 2ms/step - loss: 0.2733 - accuracy: 0.8730\n",
            "Epoch 74/100\n",
            "13/13 [==============================] - 0s 2ms/step - loss: 0.2759 - accuracy: 0.8453\n",
            "Epoch 75/100\n",
            "13/13 [==============================] - 0s 2ms/step - loss: 0.2964 - accuracy: 0.8599\n",
            "Epoch 76/100\n",
            "13/13 [==============================] - 0s 2ms/step - loss: 0.2652 - accuracy: 0.8664\n",
            "Epoch 77/100\n",
            "13/13 [==============================] - 0s 2ms/step - loss: 0.2999 - accuracy: 0.8583\n",
            "Epoch 78/100\n",
            "13/13 [==============================] - 0s 2ms/step - loss: 0.2952 - accuracy: 0.8583\n",
            "Epoch 79/100\n",
            "13/13 [==============================] - 0s 2ms/step - loss: 0.2547 - accuracy: 0.8730\n",
            "Epoch 80/100\n",
            "13/13 [==============================] - 0s 2ms/step - loss: 0.2533 - accuracy: 0.8811\n",
            "Epoch 81/100\n",
            "13/13 [==============================] - 0s 3ms/step - loss: 0.2239 - accuracy: 0.8844\n",
            "Epoch 82/100\n",
            "13/13 [==============================] - 0s 2ms/step - loss: 0.2267 - accuracy: 0.8876\n",
            "Epoch 83/100\n",
            "13/13 [==============================] - 0s 2ms/step - loss: 0.2182 - accuracy: 0.8893\n",
            "Epoch 84/100\n",
            "13/13 [==============================] - 0s 2ms/step - loss: 0.2105 - accuracy: 0.8779\n",
            "Epoch 85/100\n",
            "13/13 [==============================] - 0s 2ms/step - loss: 0.2481 - accuracy: 0.8599\n",
            "Epoch 86/100\n",
            "13/13 [==============================] - 0s 3ms/step - loss: 0.2290 - accuracy: 0.8681\n",
            "Epoch 87/100\n",
            "13/13 [==============================] - 0s 2ms/step - loss: 0.2775 - accuracy: 0.8616\n",
            "Epoch 88/100\n",
            "13/13 [==============================] - 0s 2ms/step - loss: 0.2717 - accuracy: 0.8811\n",
            "Epoch 89/100\n",
            "13/13 [==============================] - 0s 3ms/step - loss: 0.2891 - accuracy: 0.8599\n",
            "Epoch 90/100\n",
            "13/13 [==============================] - 0s 2ms/step - loss: 0.3263 - accuracy: 0.8697\n",
            "Epoch 91/100\n",
            "13/13 [==============================] - 0s 2ms/step - loss: 0.3470 - accuracy: 0.8322\n",
            "Epoch 92/100\n",
            "13/13 [==============================] - 0s 4ms/step - loss: 0.3274 - accuracy: 0.8502\n",
            "Epoch 93/100\n",
            "13/13 [==============================] - 0s 2ms/step - loss: 0.2991 - accuracy: 0.8420\n",
            "Epoch 94/100\n",
            "13/13 [==============================] - 0s 2ms/step - loss: 0.2764 - accuracy: 0.8567\n",
            "Epoch 95/100\n",
            "13/13 [==============================] - 0s 2ms/step - loss: 0.3549 - accuracy: 0.8681\n",
            "Epoch 96/100\n",
            "13/13 [==============================] - 0s 2ms/step - loss: 0.3556 - accuracy: 0.8388\n",
            "Epoch 97/100\n",
            "13/13 [==============================] - 0s 3ms/step - loss: 0.3208 - accuracy: 0.8632\n",
            "Epoch 98/100\n",
            "13/13 [==============================] - 0s 3ms/step - loss: 0.2809 - accuracy: 0.8648\n",
            "Epoch 99/100\n",
            "13/13 [==============================] - 0s 2ms/step - loss: 0.2831 - accuracy: 0.8648\n",
            "Epoch 100/100\n",
            "13/13 [==============================] - 0s 2ms/step - loss: 0.2682 - accuracy: 0.8664\n"
          ]
        },
        {
          "output_type": "execute_result",
          "data": {
            "text/plain": [
              "<keras.callbacks.History at 0x7fb75a7fd880>"
            ]
          },
          "metadata": {},
          "execution_count": 148
        }
      ],
      "source": [
        "\n",
        "# Training for 100 epochs\n",
        "model.fit(X_train,y_train,epochs=100,batch_size=50)"
      ]
    },
    {
      "cell_type": "code",
      "execution_count": 149,
      "metadata": {
        "colab": {
          "base_uri": "https://localhost:8080/"
        },
        "id": "surxGs1_hB0M",
        "outputId": "ddded386-38fa-42a3-fc81-635687265884"
      },
      "outputs": [
        {
          "output_type": "stream",
          "name": "stdout",
          "text": [
            "20/20 [==============================] - 0s 3ms/step - loss: 0.2724 - accuracy: 0.8713\n",
            "Training Accuracy: 87.13%\n",
            "\n",
            "5/5 [==============================] - 0s 4ms/step - loss: 1.7709 - accuracy: 0.7208\n",
            "Testing Accuracy: 72.08%\n",
            "\n"
          ]
        }
      ],
      "source": [
        "# Train and Test accuracy\n",
        "scores = model.evaluate(X_train,y_train)\n",
        "print(\"Training Accuracy: %.2f%%\\n\" % (scores[1]*100))\n",
        "scores = model.evaluate(X_test,y_test)\n",
        "print(\"Testing Accuracy: %.2f%%\\n\" % (scores[1]*100))"
      ]
    },
    {
      "cell_type": "markdown",
      "metadata": {
        "id": "GIVRzzNjQ320"
      },
      "source": [
        "**Confusion Matrix**"
      ]
    },
    {
      "cell_type": "code",
      "execution_count": 150,
      "metadata": {
        "id": "rST6LvnHhDF0"
      },
      "outputs": [],
      "source": [
        "\n",
        "from sklearn.metrics import confusion_matrix"
      ]
    },
    {
      "cell_type": "code",
      "execution_count": 151,
      "metadata": {
        "colab": {
          "base_uri": "https://localhost:8080/",
          "height": 296
        },
        "id": "vgKD3o0bhIRv",
        "outputId": "d9d32c56-9d2e-41f9-98a7-4ff1d093565c"
      },
      "outputs": [
        {
          "output_type": "stream",
          "name": "stdout",
          "text": [
            "5/5 [==============================] - 0s 2ms/step\n"
          ]
        },
        {
          "output_type": "display_data",
          "data": {
            "text/plain": [
              "<Figure size 432x288 with 1 Axes>"
            ],
            "image/png": "[encoded data removed]"
          },
          "metadata": {
            "needs_background": "light"
          }
        }
      ],
      "source": [
        "\n",
        "y_test_pred = (model.predict(X_test) > 0.5).astype(\"int32\")\n",
        "cm = confusion_matrix(y_test,y_test_pred)\n",
        "ax = sns.heatmap(cm, annot=True, xticklabels=[\"No Diabetes\",'Diabetes'], yticklabels=['No Diabetes','Diabetes'],\n",
        "                cbar=False,cmap='Blues')\n",
        "ax.set_xlabel('Prediction')\n",
        "ax.set_ylabel('Actual')\n",
        "plt.show()"
      ]
    },
    {
      "cell_type": "markdown",
      "metadata": {
        "id": "8STbOZiyQ965"
      },
      "source": [
        "**Classification Report**"
      ]
    },
    {
      "cell_type": "code",
      "execution_count": 152,
      "metadata": {
        "colab": {
          "base_uri": "https://localhost:8080/"
        },
        "id": "vsFwI7P9ku93",
        "outputId": "8792f87e-0c66-4f2a-e2de-08706ebea8da"
      },
      "outputs": [
        {
          "output_type": "stream",
          "name": "stdout",
          "text": [
            "              precision    recall  f1-score   support\n",
            "\n",
            "           0       0.79      0.75      0.77        95\n",
            "           1       0.62      0.68      0.65        59\n",
            "\n",
            "    accuracy                           0.72       154\n",
            "   macro avg       0.71      0.71      0.71       154\n",
            "weighted avg       0.73      0.72      0.72       154\n",
            "\n"
          ]
        }
      ],
      "source": [
        "from sklearn.metrics import classification_report\n",
        "print(classification_report(y_test,y_test_pred))"
      ]
    }
  ],
  "metadata": {
    "colab": {
      "provenance": []
    },
    "kernelspec": {
      "display_name": "Python 3",
      "name": "python3"
    },
    "language_info": {
      "name": "python"
    }
  },
  "nbformat": 4,
  "nbformat_minor": 0
}